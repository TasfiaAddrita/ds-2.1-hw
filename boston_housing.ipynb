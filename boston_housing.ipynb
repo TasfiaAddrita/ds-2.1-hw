{
 "cells": [
  {
   "cell_type": "code",
   "execution_count": 1,
   "metadata": {},
   "outputs": [],
   "source": [
    "import pandas as pd\n",
    "import numpy as np\n",
    "import matplotlib.pyplot as plt\n",
    "from sklearn import datasets"
   ]
  },
  {
   "cell_type": "code",
   "execution_count": 2,
   "metadata": {},
   "outputs": [
    {
     "data": {
      "text/html": [
       "<div>\n",
       "<style scoped>\n",
       "    .dataframe tbody tr th:only-of-type {\n",
       "        vertical-align: middle;\n",
       "    }\n",
       "\n",
       "    .dataframe tbody tr th {\n",
       "        vertical-align: top;\n",
       "    }\n",
       "\n",
       "    .dataframe thead th {\n",
       "        text-align: right;\n",
       "    }\n",
       "</style>\n",
       "<table border=\"1\" class=\"dataframe\">\n",
       "  <thead>\n",
       "    <tr style=\"text-align: right;\">\n",
       "      <th></th>\n",
       "      <th>CRIM</th>\n",
       "      <th>ZN</th>\n",
       "      <th>INDUS</th>\n",
       "      <th>CHAS</th>\n",
       "      <th>NOX</th>\n",
       "      <th>RM</th>\n",
       "      <th>AGE</th>\n",
       "      <th>DIS</th>\n",
       "      <th>RAD</th>\n",
       "      <th>TAX</th>\n",
       "      <th>PTRATIO</th>\n",
       "      <th>B</th>\n",
       "      <th>LSTAT</th>\n",
       "      <th>PRICE</th>\n",
       "    </tr>\n",
       "  </thead>\n",
       "  <tbody>\n",
       "    <tr>\n",
       "      <td>0</td>\n",
       "      <td>0.00632</td>\n",
       "      <td>18.0</td>\n",
       "      <td>2.31</td>\n",
       "      <td>0.0</td>\n",
       "      <td>0.538</td>\n",
       "      <td>6.575</td>\n",
       "      <td>65.2</td>\n",
       "      <td>4.0900</td>\n",
       "      <td>1.0</td>\n",
       "      <td>296.0</td>\n",
       "      <td>15.3</td>\n",
       "      <td>396.90</td>\n",
       "      <td>4.98</td>\n",
       "      <td>24.0</td>\n",
       "    </tr>\n",
       "    <tr>\n",
       "      <td>1</td>\n",
       "      <td>0.02731</td>\n",
       "      <td>0.0</td>\n",
       "      <td>7.07</td>\n",
       "      <td>0.0</td>\n",
       "      <td>0.469</td>\n",
       "      <td>6.421</td>\n",
       "      <td>78.9</td>\n",
       "      <td>4.9671</td>\n",
       "      <td>2.0</td>\n",
       "      <td>242.0</td>\n",
       "      <td>17.8</td>\n",
       "      <td>396.90</td>\n",
       "      <td>9.14</td>\n",
       "      <td>21.6</td>\n",
       "    </tr>\n",
       "    <tr>\n",
       "      <td>2</td>\n",
       "      <td>0.02729</td>\n",
       "      <td>0.0</td>\n",
       "      <td>7.07</td>\n",
       "      <td>0.0</td>\n",
       "      <td>0.469</td>\n",
       "      <td>7.185</td>\n",
       "      <td>61.1</td>\n",
       "      <td>4.9671</td>\n",
       "      <td>2.0</td>\n",
       "      <td>242.0</td>\n",
       "      <td>17.8</td>\n",
       "      <td>392.83</td>\n",
       "      <td>4.03</td>\n",
       "      <td>34.7</td>\n",
       "    </tr>\n",
       "    <tr>\n",
       "      <td>3</td>\n",
       "      <td>0.03237</td>\n",
       "      <td>0.0</td>\n",
       "      <td>2.18</td>\n",
       "      <td>0.0</td>\n",
       "      <td>0.458</td>\n",
       "      <td>6.998</td>\n",
       "      <td>45.8</td>\n",
       "      <td>6.0622</td>\n",
       "      <td>3.0</td>\n",
       "      <td>222.0</td>\n",
       "      <td>18.7</td>\n",
       "      <td>394.63</td>\n",
       "      <td>2.94</td>\n",
       "      <td>33.4</td>\n",
       "    </tr>\n",
       "    <tr>\n",
       "      <td>4</td>\n",
       "      <td>0.06905</td>\n",
       "      <td>0.0</td>\n",
       "      <td>2.18</td>\n",
       "      <td>0.0</td>\n",
       "      <td>0.458</td>\n",
       "      <td>7.147</td>\n",
       "      <td>54.2</td>\n",
       "      <td>6.0622</td>\n",
       "      <td>3.0</td>\n",
       "      <td>222.0</td>\n",
       "      <td>18.7</td>\n",
       "      <td>396.90</td>\n",
       "      <td>5.33</td>\n",
       "      <td>36.2</td>\n",
       "    </tr>\n",
       "  </tbody>\n",
       "</table>\n",
       "</div>"
      ],
      "text/plain": [
       "      CRIM    ZN  INDUS  CHAS    NOX     RM   AGE     DIS  RAD    TAX  \\\n",
       "0  0.00632  18.0   2.31   0.0  0.538  6.575  65.2  4.0900  1.0  296.0   \n",
       "1  0.02731   0.0   7.07   0.0  0.469  6.421  78.9  4.9671  2.0  242.0   \n",
       "2  0.02729   0.0   7.07   0.0  0.469  7.185  61.1  4.9671  2.0  242.0   \n",
       "3  0.03237   0.0   2.18   0.0  0.458  6.998  45.8  6.0622  3.0  222.0   \n",
       "4  0.06905   0.0   2.18   0.0  0.458  7.147  54.2  6.0622  3.0  222.0   \n",
       "\n",
       "   PTRATIO       B  LSTAT  PRICE  \n",
       "0     15.3  396.90   4.98   24.0  \n",
       "1     17.8  396.90   9.14   21.6  \n",
       "2     17.8  392.83   4.03   34.7  \n",
       "3     18.7  394.63   2.94   33.4  \n",
       "4     18.7  396.90   5.33   36.2  "
      ]
     },
     "execution_count": 2,
     "metadata": {},
     "output_type": "execute_result"
    }
   ],
   "source": [
    "b = datasets.load_boston()\n",
    "\n",
    "bos = pd.DataFrame(b.data)\n",
    "bos.columns = b.feature_names\n",
    "X = bos[bos.columns]\n",
    "bos[\"PRICE\"] = b.target\n",
    "y = bos[\"PRICE\"]\n",
    "\n",
    "bos.head()"
   ]
  },
  {
   "cell_type": "code",
   "execution_count": 3,
   "metadata": {},
   "outputs": [],
   "source": [
    "from sklearn.model_selection import train_test_split\n",
    "from sklearn.metrics import mean_squared_error, r2_score\n",
    "\n",
    "X_train, X_test, y_train, y_test = train_test_split(X, y, test_size=0.25, random_state=0)"
   ]
  },
  {
   "cell_type": "markdown",
   "metadata": {},
   "source": [
    "# Linear Regression"
   ]
  },
  {
   "cell_type": "code",
   "execution_count": 4,
   "metadata": {},
   "outputs": [],
   "source": [
    "from sklearn.linear_model import LinearRegression\n",
    "\n",
    "reg = LinearRegression()\n",
    "reg.fit(X_train, y_train)\n",
    "y_pred = reg.predict(X_test)"
   ]
  },
  {
   "cell_type": "code",
   "execution_count": 5,
   "metadata": {},
   "outputs": [
    {
     "name": "stdout",
     "output_type": "stream",
     "text": [
      "R^2: 0.635463843320211\n",
      "MSE: 29.78224509230252\n"
     ]
    }
   ],
   "source": [
    "r2 = r2_score(y_test, y_pred)\n",
    "mse = mean_squared_error(y_test, y_pred)\n",
    "\n",
    "print(f\"R^2: {r2}\")\n",
    "print(f\"MSE: {mse}\")"
   ]
  },
  {
   "cell_type": "markdown",
   "metadata": {},
   "source": [
    "# Support Vector Machine"
   ]
  },
  {
   "cell_type": "code",
   "execution_count": 6,
   "metadata": {},
   "outputs": [],
   "source": [
    "from sklearn.svm import SVR\n",
    "\n",
    "svr = SVR(kernel=\"linear\")\n",
    "svr.fit(X_train, y_train)\n",
    "y_pred = svr.predict(X_test)"
   ]
  },
  {
   "cell_type": "code",
   "execution_count": 7,
   "metadata": {},
   "outputs": [
    {
     "name": "stdout",
     "output_type": "stream",
     "text": [
      "R^2: 0.5635479105806482\n",
      "MSE: 35.657705991432444\n"
     ]
    }
   ],
   "source": [
    "r2 = r2_score(y_test, y_pred)\n",
    "mse = mean_squared_error(y_test, y_pred)\n",
    "\n",
    "print(f\"R^2: {r2}\")\n",
    "print(f\"MSE: {mse}\")"
   ]
  },
  {
   "cell_type": "markdown",
   "metadata": {},
   "source": [
    "# XGBoost"
   ]
  },
  {
   "cell_type": "code",
   "execution_count": 8,
   "metadata": {},
   "outputs": [],
   "source": [
    "import xgboost as xgb\n",
    "\n",
    "# read in data\n",
    "dtrain = xgb.DMatrix(X_train, label=y_train)\n",
    "dtest = xgb.DMatrix(X_test, label=y_test)\n",
    "\n",
    "bst = xgb.train({} , dtrain)\n",
    "\n",
    "# make prediction\n",
    "y_pred = bst.predict(dtest)"
   ]
  },
  {
   "cell_type": "code",
   "execution_count": 9,
   "metadata": {},
   "outputs": [
    {
     "name": "stdout",
     "output_type": "stream",
     "text": [
      "R^2: 0.7235488865082431\n",
      "MSE: 22.585783789023868\n"
     ]
    }
   ],
   "source": [
    "r2 = r2_score(y_test, y_pred)\n",
    "mse = mean_squared_error(y_test, y_pred)\n",
    "\n",
    "print(f\"R^2: {r2}\")\n",
    "print(f\"MSE: {mse}\")"
   ]
  },
  {
   "cell_type": "markdown",
   "metadata": {},
   "source": [
    "# Combinations"
   ]
  },
  {
   "cell_type": "code",
   "execution_count": 10,
   "metadata": {},
   "outputs": [],
   "source": [
    "reg = LinearRegression()\n",
    "def linear_regression(X_train, X_test, y_train, y_test):\n",
    "    reg.fit(X_train, y_train)\n",
    "    y_pred = reg.predict(X_test)\n",
    "    r2 = r2_score(y_test, y_pred)\n",
    "    mse = mean_squared_error(y_test, y_pred)\n",
    "    return r2, mse"
   ]
  },
  {
   "cell_type": "code",
   "execution_count": 11,
   "metadata": {},
   "outputs": [],
   "source": [
    "svr = SVR(kernel=\"linear\")\n",
    "def svr_(X_train, X_test, y_train, y_test):\n",
    "    svr.fit(X_train, y_train)\n",
    "    y_pred = svr.predict(X_test)\n",
    "    r2 = r2_score(y_test, y_pred)\n",
    "    mse = mean_squared_error(y_test, y_pred)\n",
    "    return r2, mse"
   ]
  },
  {
   "cell_type": "code",
   "execution_count": 12,
   "metadata": {},
   "outputs": [],
   "source": [
    "import xgboost as xgb\n",
    "\n",
    "def xgb_(X_train, X_test, y_train, y_test):\n",
    "    dtrain = xgb.DMatrix(X_train, label=y_train)\n",
    "    dtest = xgb.DMatrix(X_test, label=y_test)\n",
    "    bst = xgb.train({} , dtrain)\n",
    "    y_pred = bst.predict(dtest)\n",
    "    r2 = r2_score(y_test, y_pred)\n",
    "    mse = mean_squared_error(y_test, y_pred)\n",
    "    return r2, mse"
   ]
  },
  {
   "cell_type": "code",
   "execution_count": 13,
   "metadata": {},
   "outputs": [
    {
     "name": "stdout",
     "output_type": "stream",
     "text": [
      "zip done\n"
     ]
    }
   ],
   "source": [
    "from itertools import combinations\n",
    "\n",
    "all_combs = []\n",
    "all_X_train = []\n",
    "all_X_test = []\n",
    "all_y_train = []\n",
    "all_y_test = []\n",
    "\n",
    "for n in range(1, 14):\n",
    "    for combs in list(combinations(X, n)):\n",
    "        lst_combs = list(combs)\n",
    "        all_combs.append(lst_combs)\n",
    "        X_feat = bos[lst_combs]\n",
    "        X_train, X_test, y_train, y_test = train_test_split(X_feat, y, test_size=0.25, random_state=0)\n",
    "        all_X_train.append(X_train)\n",
    "        all_X_test.append(X_test)\n",
    "        all_y_train.append(y_train)\n",
    "        all_y_test.append(y_test)\n",
    "\n",
    "zip_data = zip(all_combs, all_X_train, all_X_test, all_y_train, all_y_test)\n",
    "print(\"zip done\")"
   ]
  },
  {
   "cell_type": "code",
   "execution_count": 14,
   "metadata": {},
   "outputs": [
    {
     "name": "stdout",
     "output_type": "stream",
     "text": [
      "working on n=1\n",
      "working on n=2\n",
      "working on n=3\n",
      "working on n=4\n",
      "working on n=5\n",
      "working on n=6\n",
      "working on n=7\n",
      "working on n=8\n",
      "working on n=9\n",
      "working on n=10\n",
      "working on n=11\n",
      "working on n=12\n",
      "working on n=13\n"
     ]
    }
   ],
   "source": [
    "max_r2_features_lr = [0,[]]\n",
    "min_mse_features_lr = [float(\"inf\"),[]]\n",
    "\n",
    "max_r2_features_xgb = [0,[]]\n",
    "min_mse_features_xgb = [float(\"inf\"),[]]\n",
    "\n",
    "curr_len = 0\n",
    "\n",
    "for combs, X_train, X_test, y_train, y_test in zip_data:\n",
    "    if len(combs) > curr_len:\n",
    "        curr_len = len(combs)\n",
    "        print(f\"working on n={curr_len}\")\n",
    "        \n",
    "    # linear regression\n",
    "    r2_lr, mse_lr = linear_regression(X_train, X_test, y_train, y_test)\n",
    "    if r2_lr > max_r2_features_lr[0]:\n",
    "        max_r2_features_lr[0] = r2_lr\n",
    "        max_r2_features_lr[1] = combs\n",
    "\n",
    "    if mse_lr < min_mse_features_lr[0]:\n",
    "        min_mse_features_lr[0] = mse_lr\n",
    "        min_mse_features_lr[1] = combs\n",
    "        \n",
    "    # xgboost\n",
    "    r2_xgb, mse_xgb = xgb_(X_train, X_test, y_train, y_test)\n",
    "    if r2_xgb > max_r2_features_xgb[0]:\n",
    "        max_r2_features_xgb[0] = r2_xgb\n",
    "        max_r2_features_xgb[1] = combs\n",
    "\n",
    "    if mse_xgb < min_mse_features_xgb[0]:\n",
    "        min_mse_features_xgb[0] = mse_xgb\n",
    "        min_mse_features_xgb[1] = combs"
   ]
  },
  {
   "cell_type": "code",
   "execution_count": 15,
   "metadata": {},
   "outputs": [
    {
     "name": "stdout",
     "output_type": "stream",
     "text": [
      "LINEAR REGRESSION\n",
      "MAX R^2: 0.6369666437456338 \n",
      "['CRIM', 'ZN', 'CHAS', 'NOX', 'RM', 'DIS', 'RAD', 'TAX', 'PTRATIO', 'B', 'LSTAT']\n",
      "\n",
      "MIN MSE: 29.65946777714562 \n",
      "['CRIM', 'ZN', 'CHAS', 'NOX', 'RM', 'DIS', 'RAD', 'TAX', 'PTRATIO', 'B', 'LSTAT']\n"
     ]
    }
   ],
   "source": [
    "print(\"LINEAR REGRESSION\")\n",
    "print(f\"MAX R^2: {max_r2_features_lr[0]} \\n{max_r2_features_lr[1]}\")\n",
    "print()\n",
    "print(f\"MIN MSE: {min_mse_features_lr[0]} \\n{min_mse_features_lr[1]}\")"
   ]
  },
  {
   "cell_type": "code",
   "execution_count": 16,
   "metadata": {},
   "outputs": [
    {
     "name": "stdout",
     "output_type": "stream",
     "text": [
      "XGBOOST\n",
      "MAX R^2: 0.774975818716418 \n",
      "['CRIM', 'NOX', 'RM', 'TAX', 'LSTAT']\n",
      "\n",
      "MIN MSE: 18.38425406061762 \n",
      "['CRIM', 'NOX', 'RM', 'TAX', 'LSTAT']\n"
     ]
    }
   ],
   "source": [
    "print(\"XGBOOST\")\n",
    "print(f\"MAX R^2: {max_r2_features_xgb[0]} \\n{max_r2_features_xgb[1]}\")\n",
    "print()\n",
    "print(f\"MIN MSE: {min_mse_features_xgb[0]} \\n{min_mse_features_xgb[1]}\")"
   ]
  },
  {
   "cell_type": "code",
   "execution_count": null,
   "metadata": {},
   "outputs": [
    {
     "name": "stdout",
     "output_type": "stream",
     "text": [
      "working on n=1\n",
      "working on n=2\n",
      "working on n=3\n"
     ]
    }
   ],
   "source": [
    "max_r2_features_svr = [0,[]]\n",
    "min_mse_features_svr = [float(\"inf\"),[]]\n",
    "\n",
    "curr_len = 0\n",
    "\n",
    "for combs, X_train, X_test, y_train, y_test in zip_data:\n",
    "    if len(combs) > curr_len:\n",
    "        curr_len = len(combs)\n",
    "        print(f\"working on n={curr_len}\")\n",
    "        \n",
    "    # svr\n",
    "    r2_svr, mse_svr = svr_(X_train, X_test, y_train, y_test)\n",
    "    if r2_svr > max_r2_features_svr[0]:\n",
    "        max_r2_features_svr[0] = r2_svr\n",
    "        max_r2_features_svr[1] = combs\n",
    "\n",
    "    if mse_svr < min_mse_features_svr[0]:\n",
    "        min_mse_features_svr[0] = mse_svr\n",
    "        min_mse_features_svr[1] = combs"
   ]
  },
  {
   "cell_type": "code",
   "execution_count": null,
   "metadata": {},
   "outputs": [],
   "source": [
    "print(\"SVR\")\n",
    "print(f\"MAX R^2: {max_r2_features_svr[0]} \\n{max_r2_features_svr[1]}\")\n",
    "print()\n",
    "print(f\"MIN MSE: {min_mse_features_svr[0]} \\n{min_mse_features_svr[1]}\")"
   ]
  }
 ],
 "metadata": {
  "kernelspec": {
   "display_name": "Python 3",
   "language": "python",
   "name": "python3"
  },
  "language_info": {
   "codemirror_mode": {
    "name": "ipython",
    "version": 3
   },
   "file_extension": ".py",
   "mimetype": "text/x-python",
   "name": "python",
   "nbconvert_exporter": "python",
   "pygments_lexer": "ipython3",
   "version": "3.7.7"
  }
 },
 "nbformat": 4,
 "nbformat_minor": 4
}
